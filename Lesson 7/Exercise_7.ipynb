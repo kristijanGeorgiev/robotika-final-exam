{
 "cells": [
  {
   "cell_type": "code",
   "execution_count": null,
   "id": "90679efe",
   "metadata": {},
   "outputs": [],
   "source": [
    "import matplotlib.pyplot as plt\n",
    "from sklearn.datasets import make_circles\n",
    "from sklearn.model_selection import train_test_split\n",
    "\n",
    "X, y = make_circles(n_samples=1000,\n",
    "                            factor=.4,\n",
    "                            noise=0.05)\n",
    "\n",
    "# Let us visualize the dataset\n",
    "reds = y == 0\n",
    "blues = y == 1\n",
    "plt.figure()\n",
    "plt.scatter(X[reds, 0], X[reds, 1],\n",
    "            c=\"red\", s=20, edgecolor='k')\n",
    "plt.scatter(X[blues, 0], X[blues, 1],\n",
    "            c=\"blue\", s=20, edgecolor='k')\n",
    "plt.show()"
   ]
  },
  {
   "cell_type": "code",
   "execution_count": null,
   "id": "584c5568",
   "metadata": {},
   "outputs": [],
   "source": [
    "X_train, X_test, y_train, y_test = train_test_split(X, y, test_size=0.33, random_state=42)"
   ]
  },
  {
   "cell_type": "code",
   "execution_count": null,
   "id": "b240233f",
   "metadata": {},
   "outputs": [],
   "source": [
    "from tensorflow.keras.models import Sequential\n",
    "from tensorflow.keras.layers import Dense\n",
    "\n",
    "model = Sequential()\n",
    "model.add(Dense(units=64, input_dim=2, activation=\"relu\"))\n",
    "model.add(Dense(units=64, activation=\"relu\"))\n",
    "model.add(Dense(units=1, activation=\"sigmoid\"))"
   ]
  },
  {
   "cell_type": "code",
   "execution_count": null,
   "id": "96dc3cc7",
   "metadata": {},
   "outputs": [],
   "source": [
    "model.summary()"
   ]
  },
  {
   "cell_type": "code",
   "execution_count": null,
   "id": "e6703644",
   "metadata": {},
   "outputs": [],
   "source": [
    "model.compile(loss='binary_crossentropy',\n",
    "              optimizer='adamW', metrics=['accuracy'])"
   ]
  },
  {
   "cell_type": "code",
   "execution_count": null,
   "id": "9c88167c",
   "metadata": {},
   "outputs": [],
   "source": [
    "model.fit(X_train, y_train,\n",
    "          batch_size=32,\n",
    "          epochs=5,\n",
    "          verbose=1)"
   ]
  },
  {
   "cell_type": "code",
   "execution_count": null,
   "id": "093a4b27",
   "metadata": {},
   "outputs": [],
   "source": [
    "loss_and_metrics = model.evaluate(X_test, y_test)"
   ]
  },
  {
   "cell_type": "code",
   "execution_count": null,
   "id": "6d7d94f7",
   "metadata": {},
   "outputs": [],
   "source": [
    "from medmnist import BloodMNIST\n",
    "dataset = BloodMNIST(split='train', download=True)"
   ]
  },
  {
   "cell_type": "code",
   "execution_count": null,
   "id": "3a880935",
   "metadata": {},
   "outputs": [],
   "source": [
    "dataset.info"
   ]
  },
  {
   "cell_type": "code",
   "execution_count": null,
   "id": "2fcf17d9",
   "metadata": {},
   "outputs": [],
   "source": [
    "import os\n",
    "import numpy as np\n",
    "dataset_name = 'bloodmnist'\n",
    "data = np.load(os.path.join(dataset.root, dataset_name + '.npz'))\n",
    "\n",
    "X_train, y_train= data['train_images'],data['train_labels']\n",
    "X_val, y_val    = data['val_images'],  data['val_labels']\n",
    "X_test, y_test  = data['test_images'], data['test_labels']"
   ]
  },
  {
   "cell_type": "code",
   "execution_count": null,
   "id": "6f12222a",
   "metadata": {},
   "outputs": [],
   "source": [
    "num_train, height, width, channels  = X_train.shape\n",
    "print(\"There are\", num_train,\"training examples  \")\n",
    "print(\"Each sample has a size of\", height,\"by\", width,\"pixels\")\n",
    "\n",
    "num_val  = X_val.shape[0]\n",
    "num_test = X_test.shape[0]"
   ]
  },
  {
   "cell_type": "code",
   "execution_count": null,
   "id": "a0fb7155",
   "metadata": {},
   "outputs": [],
   "source": [
    "num_classes = np.unique(y_train).shape[0]"
   ]
  },
  {
   "cell_type": "code",
   "execution_count": null,
   "id": "03f676a0",
   "metadata": {},
   "outputs": [],
   "source": [
    "X_train = X_train.astype('float32')\n",
    "X_val = X_val.astype('float32')\n",
    "X_test = X_test.astype('float32')\n",
    "X_train /= 255.0\n",
    "X_val   /= 255.0\n",
    "X_test  /= 255.0"
   ]
  },
  {
   "cell_type": "code",
   "execution_count": null,
   "id": "2664854a",
   "metadata": {},
   "outputs": [],
   "source": [
    "plt.figure(figsize=(16,12))\n",
    "for i in range(24):\n",
    "    plt.subplot(4,6,i+1)\n",
    "    plt.xticks([])\n",
    "    plt.yticks([])\n",
    "    plt.grid(False)\n",
    "    plt.imshow(X_train[i].reshape((height,width,channels)), cmap=plt.cm.binary)\n",
    "    plt.xlabel(dataset.info['label'][str(y_train[i][0])][:20])\n",
    "plt.show()"
   ]
  },
  {
   "cell_type": "code",
   "execution_count": null,
   "id": "fcf5f07c",
   "metadata": {},
   "outputs": [],
   "source": [
    "from keras.models import Sequential\n",
    "from keras.layers import Dense, Flatten\n",
    "\n",
    "# Define parameters\n",
    "batch_size = 128\n",
    "epochs = 20\n",
    "\n",
    "# Create the model\n",
    "model = Sequential()\n",
    "model.add(Flatten(input_shape=(height, width, channels)))  # Only need input_shape here\n",
    "model.add(Dense(32, activation='relu'))\n",
    "model.add(Dense(16, activation='relu'))"
   ]
  },
  {
   "cell_type": "code",
   "execution_count": null,
   "id": "54423472",
   "metadata": {},
   "outputs": [],
   "source": [
    "model.summary()"
   ]
  },
  {
   "cell_type": "code",
   "execution_count": null,
   "id": "c116ac6d",
   "metadata": {},
   "outputs": [],
   "source": [
    "model.compile(loss='sparse_categorical_crossentropy',\n",
    "              optimizer='adamW',\n",
    "              metrics=['accuracy'])"
   ]
  },
  {
   "cell_type": "code",
   "execution_count": null,
   "id": "305bdf69",
   "metadata": {},
   "outputs": [],
   "source": [
    "history_mlp = model.fit(X_train, y_train,\n",
    "                    batch_size=batch_size,\n",
    "                    epochs=epochs,\n",
    "                    verbose=1,\n",
    "                    validation_data=(X_val, y_val))"
   ]
  },
  {
   "cell_type": "code",
   "execution_count": null,
   "id": "d1a07db4",
   "metadata": {},
   "outputs": [],
   "source": [
    "def plot_history(histories):\n",
    "    fig, ax = plt.subplots(1, 2,figsize=(15, 7))\n",
    "    for (history,name) in histories:\n",
    "        ax[0].plot(history.history['accuracy'],'o-.',label  = name+' train')\n",
    "        ax[0].plot(history.history['val_accuracy'],'x-',label  = name+' test')\n",
    "\n",
    "        ax[0].set_title('model accuracy')\n",
    "        ax[0].set_ylabel('accuracy')\n",
    "        ax[0].set_xlabel('epoch')\n",
    "        ax[0].legend(loc='upper left')\n",
    "\n",
    "    for (history,name) in histories:\n",
    "        ax[1].plot(history.history['loss'],'o-.',label  = name+' train')\n",
    "        ax[1].plot(history.history['val_loss'],'x-',label  = name+' test')\n",
    "\n",
    "        ax[1].set_title('model loss')\n",
    "        ax[1].set_ylabel('loss')\n",
    "        ax[1].set_xlabel('epoch')\n",
    "        ax[1].legend(loc='upper left')\n",
    "    plt.show()\n",
    "\n",
    "plot_history([(history_mlp,'MLP')])"
   ]
  },
  {
   "cell_type": "code",
   "execution_count": null,
   "id": "230254f6",
   "metadata": {},
   "outputs": [],
   "source": [
    "score = model.evaluate(X_test, y_test, verbose=0)\n",
    "print('Test loss:', score[0])\n",
    "print('Test accuracy:', score[1])"
   ]
  },
  {
   "cell_type": "code",
   "execution_count": null,
   "id": "f885379c",
   "metadata": {},
   "outputs": [],
   "source": [
    "from tensorflow.keras.layers import Conv2D, MaxPooling2D"
   ]
  },
  {
   "cell_type": "code",
   "execution_count": null,
   "id": "4838ab38",
   "metadata": {},
   "outputs": [],
   "source": [
    "model = Sequential()\n",
    "model.add(Conv2D(filters = 32, kernel_size = (3,3),\n",
    "                 activation = 'relu',\n",
    "                 input_shape = (height,width,channels)))\n",
    "\n",
    "model.add(MaxPooling2D(pool_size = (2,2)))\n",
    "model.add(Conv2D(filters = 16, kernel_size = (3,3),\n",
    "                 activation = 'relu'))\n",
    "model.add(Flatten())\n",
    "model.add(Dense(8,activation='softmax'))"
   ]
  },
  {
   "cell_type": "code",
   "execution_count": null,
   "id": "22e1dd1d",
   "metadata": {},
   "outputs": [],
   "source": [
    "model.summary()"
   ]
  },
  {
   "cell_type": "code",
   "execution_count": null,
   "id": "55af1ac5",
   "metadata": {},
   "outputs": [],
   "source": [
    "model.compile(loss='sparse_categorical_crossentropy',\n",
    "              optimizer='adamW',\n",
    "              metrics=['accuracy'])"
   ]
  },
  {
   "cell_type": "code",
   "execution_count": null,
   "id": "a9db262f",
   "metadata": {},
   "outputs": [],
   "source": [
    "X_train = X_train.reshape(num_train,height,width,channels)\n",
    "X_test = X_test.reshape(num_test,height,width,channels)"
   ]
  },
  {
   "cell_type": "code",
   "execution_count": null,
   "id": "5ac8fa9d",
   "metadata": {},
   "outputs": [],
   "source": [
    "X_train.shape"
   ]
  },
  {
   "cell_type": "code",
   "execution_count": null,
   "id": "87066469",
   "metadata": {},
   "outputs": [],
   "source": [
    "history_cnn = model.fit(X_train, y_train,\n",
    "                    batch_size=128,\n",
    "                    epochs=epochs,\n",
    "                    verbose=1,\n",
    "                    validation_data=(X_test, y_test))"
   ]
  },
  {
   "cell_type": "code",
   "execution_count": null,
   "id": "5734edc5",
   "metadata": {},
   "outputs": [],
   "source": [
    "plot_history([(history_mlp,'MLP'),\n",
    "              (history_cnn,'CNN')])"
   ]
  },
  {
   "cell_type": "code",
   "execution_count": null,
   "id": "c62e1e81",
   "metadata": {},
   "outputs": [],
   "source": [
    "score = model.evaluate(X_test, y_test, verbose=0)\n",
    "print('Test loss:', score[0])\n",
    "print('Test accuracy:', score[1])"
   ]
  },
  {
   "cell_type": "code",
   "execution_count": null,
   "id": "d36a3aa9",
   "metadata": {},
   "outputs": [],
   "source": [
    "model = Sequential()\n",
    "model.add(Conv2D(64, (3,3), activation = 'relu',\n",
    "                 input_shape = (height,width,channels)))\n",
    "model.add(Conv2D(64, (3,3), activation = 'relu'))\n",
    "model.add(MaxPooling2D(pool_size=(2, 2)))\n",
    "model.add(Conv2D(64, (3,3), activation = 'relu'))\n",
    "model.add(Conv2D(64, (3,3), activation = 'relu'))\n",
    "model.add(MaxPooling2D(pool_size=(2, 2)))\n",
    "model.add(Conv2D(64, (3,3), activation = 'relu'))\n",
    "model.add(Flatten())\n",
    "model.add(Dense(64, activation = 'relu'))\n",
    "model.add(Dense(8,activation='softmax'))"
   ]
  },
  {
   "cell_type": "code",
   "execution_count": null,
   "id": "806594bd",
   "metadata": {},
   "outputs": [],
   "source": [
    "model.compile(loss='sparse_categorical_crossentropy',\n",
    "              optimizer='adamW',\n",
    "              metrics=['accuracy'])"
   ]
  },
  {
   "cell_type": "code",
   "execution_count": null,
   "id": "57a6af64",
   "metadata": {},
   "outputs": [],
   "source": [
    "print(\"X_train shape:\", X_train.shape)\n",
    "print(\"y_train shape:\", y_train.shape)\n",
    "print(\"X_test shape:\", X_test.shape)\n",
    "print(\"y_test shape:\", y_test.shape)"
   ]
  },
  {
   "cell_type": "code",
   "execution_count": null,
   "id": "c77925f8",
   "metadata": {},
   "outputs": [],
   "source": [
    "history_deep_cnn = model.fit(X_train, y_train,\n",
    "                    batch_size=128,\n",
    "                    epochs=epochs,\n",
    "                    verbose=1,\n",
    "                    validation_data=(X_test, y_test))"
   ]
  },
  {
   "cell_type": "code",
   "execution_count": null,
   "id": "56771f44",
   "metadata": {},
   "outputs": [],
   "source": [
    "score = model.evaluate(X_test, y_test, verbose=0)\n",
    "print('Test loss:', score[0])\n",
    "print('Test accuracy:', score[1])"
   ]
  }
 ],
 "metadata": {
  "language_info": {
   "name": "python"
  }
 },
 "nbformat": 4,
 "nbformat_minor": 5
}
